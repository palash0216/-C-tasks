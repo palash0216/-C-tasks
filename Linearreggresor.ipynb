{
  "nbformat": 4,
  "nbformat_minor": 0,
  "metadata": {
    "colab": {
      "name": "Untitled7.ipynb",
      "provenance": [],
      "authorship_tag": "ABX9TyMlgVgz0FhkT3SPdNeDebci",
      "include_colab_link": true
    },
    "kernelspec": {
      "name": "python3",
      "display_name": "Python 3"
    },
    "language_info": {
      "name": "python"
    }
  },
  "cells": [
    {
      "cell_type": "markdown",
      "metadata": {
        "id": "view-in-github",
        "colab_type": "text"
      },
      "source": [
        "<a href=\"https://colab.research.google.com/github/palash0216/-C-tasks/blob/main/Linearreggresor.ipynb\" target=\"_parent\"><img src=\"https://colab.research.google.com/assets/colab-badge.svg\" alt=\"Open In Colab\"/></a>"
      ]
    },
    {
      "cell_type": "code",
      "metadata": {
        "id": "lt1c22pzfCRA"
      },
      "source": [
        "import matplotlib.pyplot as plt\n",
        "import numpy as np\n",
        "from sklearn import datasets, linear_model\n",
        "from sklearn.metrics import mean_squared_error"
      ],
      "execution_count": 42,
      "outputs": []
    },
    {
      "cell_type": "code",
      "metadata": {
        "colab": {
          "base_uri": "https://localhost:8080/"
        },
        "id": "mWH-6abFfkP6",
        "outputId": "961cb533-15cf-4a2f-8e88-dfc2ea0a947c"
      },
      "source": [
        "diabetes = datasets.load_diabetes()\n",
        "print(diabetes.keys())"
      ],
      "execution_count": 43,
      "outputs": [
        {
          "output_type": "stream",
          "text": [
            "dict_keys(['data', 'target', 'DESCR', 'feature_names', 'data_filename', 'target_filename'])\n"
          ],
          "name": "stdout"
        }
      ]
    },
    {
      "cell_type": "code",
      "metadata": {
        "id": "Mrq0_69EgnVK"
      },
      "source": [
        "diabetes_x = diabetes.data[:,np.newaxis,2]"
      ],
      "execution_count": 77,
      "outputs": []
    },
    {
      "cell_type": "markdown",
      "metadata": {
        "id": "yQsVjk1go1M6"
      },
      "source": [
        ""
      ]
    },
    {
      "cell_type": "code",
      "metadata": {
        "id": "VHTOiNRshwS1"
      },
      "source": [
        "diabetes_x_train = diabetes_x[:-30]\n",
        "diabetes_x_test = diabetes_x[-30:]"
      ],
      "execution_count": 78,
      "outputs": []
    },
    {
      "cell_type": "code",
      "metadata": {
        "id": "O4eawg9LisOd"
      },
      "source": [
        "diabetes_y_train = diabetes.target[:-30]\n",
        "diabetes_y_test = diabetes.target[-30:]"
      ],
      "execution_count": 79,
      "outputs": []
    },
    {
      "cell_type": "code",
      "metadata": {
        "id": "ByTFmECQjY1C"
      },
      "source": [
        "model = linear_model.LinearRegression()"
      ],
      "execution_count": 80,
      "outputs": []
    },
    {
      "cell_type": "code",
      "metadata": {
        "colab": {
          "base_uri": "https://localhost:8080/"
        },
        "id": "NcqU7ZdRjblU",
        "outputId": "0b78ae77-f6f6-4e2a-c586-23a58f03d86a"
      },
      "source": [
        "model.fit(diabetes_x_train,diabetes_y_train)"
      ],
      "execution_count": 81,
      "outputs": [
        {
          "output_type": "execute_result",
          "data": {
            "text/plain": [
              "LinearRegression(copy_X=True, fit_intercept=True, n_jobs=None, normalize=False)"
            ]
          },
          "metadata": {
            "tags": []
          },
          "execution_count": 81
        }
      ]
    },
    {
      "cell_type": "code",
      "metadata": {
        "id": "4p7nB51ujyKN"
      },
      "source": [
        "diabetes_y_predicted = model.predict(diabetes_x_test)"
      ],
      "execution_count": 82,
      "outputs": []
    },
    {
      "cell_type": "code",
      "metadata": {
        "colab": {
          "base_uri": "https://localhost:8080/"
        },
        "id": "hPtJBHeqkQYS",
        "outputId": "05a4de61-82c0-41f4-bda0-216eb4791db2"
      },
      "source": [
        "print(\"Mean squared error is :\" , mean_squared_error(diabetes_y_test,diabetes_y_predicted))"
      ],
      "execution_count": 83,
      "outputs": [
        {
          "output_type": "stream",
          "text": [
            "Mean squared error is : 3035.0601152912686\n"
          ],
          "name": "stdout"
        }
      ]
    },
    {
      "cell_type": "code",
      "metadata": {
        "colab": {
          "base_uri": "https://localhost:8080/"
        },
        "id": "F468zchXlEiU",
        "outputId": "a288d842-8c76-4456-b708-f8e919af408b"
      },
      "source": [
        "print(\"Weights: \", model.coef_)"
      ],
      "execution_count": 84,
      "outputs": [
        {
          "output_type": "stream",
          "text": [
            "Weights:  [941.43097333]\n"
          ],
          "name": "stdout"
        }
      ]
    },
    {
      "cell_type": "code",
      "metadata": {
        "colab": {
          "base_uri": "https://localhost:8080/"
        },
        "id": "9xjHRYZRmmJ_",
        "outputId": "9b5a23c3-27ff-4b33-9a4f-b09d7ff753c3"
      },
      "source": [
        "print(\"Intercept :\", model.intercept_)"
      ],
      "execution_count": 85,
      "outputs": [
        {
          "output_type": "stream",
          "text": [
            "Intercept : 153.39713623331698\n"
          ],
          "name": "stdout"
        }
      ]
    },
    {
      "cell_type": "code",
      "metadata": {
        "colab": {
          "base_uri": "https://localhost:8080/",
          "height": 265
        },
        "id": "hSvzULhDmte5",
        "outputId": "5686cc5d-7245-48ca-c8f5-a5aa2559b952"
      },
      "source": [
        "plt.scatter(diabetes_x_test,diabetes_y_test)\n",
        "plt.plot(diabetes_x_test,diabetes_y_predicted)\n",
        "plt.show()"
      ],
      "execution_count": 86,
      "outputs": [
        {
          "output_type": "display_data",
          "data": {
            "image/png": "[encoded data removed]",
            "text/plain": [
              "<Figure size 432x288 with 1 Axes>"
            ]
          },
          "metadata": {
            "tags": [],
            "needs_background": "light"
          }
        }
      ]
    },
    {
      "cell_type": "code",
      "metadata": {
        "id": "K-a7lBHutf-s"
      },
      "source": [
        ""
      ],
      "execution_count": null,
      "outputs": []
    }
  ]
}